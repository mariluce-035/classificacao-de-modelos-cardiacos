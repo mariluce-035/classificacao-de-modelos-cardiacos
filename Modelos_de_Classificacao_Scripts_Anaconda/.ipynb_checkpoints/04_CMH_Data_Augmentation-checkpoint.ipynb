{
 "cells": [
  {
   "cell_type": "markdown",
   "metadata": {},
   "source": [
    "informações sobre as amostras originais:\n",
    "\n",
    "index 0 a 100 - SAN - 101\n",
    "\n",
    "index 101 a 283 - CMH - 183\n",
    "\n",
    "index 284 a 399 - CMD - 116\n"
   ]
  },
  {
   "cell_type": "code",
   "execution_count": null,
   "metadata": {},
   "outputs": [],
   "source": [
    "import numpy as np\n",
    "import pandas as pd"
   ]
  },
  {
   "cell_type": "code",
   "execution_count": null,
   "metadata": {},
   "outputs": [],
   "source": [
    "pd.set_option('display.max_columns',500)\n",
    "pd.set_option('display.max_rows',500)"
   ]
  },
  {
   "cell_type": "code",
   "execution_count": null,
   "metadata": {},
   "outputs": [],
   "source": [
    "df_norm_data = pd.read_csv(\"../Database/df_database_dados_normalizados_minmax.csv\")\n",
    "df_norm_data.head()"
   ]
  },
  {
   "cell_type": "code",
   "execution_count": null,
   "metadata": {},
   "outputs": [],
   "source": [
    "features_indexes = df_norm_data.columns[0:-1]\n",
    "print(features_indexes)"
   ]
  },
  {
   "cell_type": "code",
   "execution_count": null,
   "metadata": {},
   "outputs": [],
   "source": [
    "df_norm_data_cmh = df_norm_data[df_norm_data['target']==1]\n",
    "df_norm_data_cmh"
   ]
  },
  {
   "cell_type": "code",
   "execution_count": null,
   "metadata": {},
   "outputs": [],
   "source": [
    "X_CMH = df_norm_data_cmh.loc[:, features_indexes].values\n",
    "\n",
    "X_CMH"
   ]
  },
  {
   "cell_type": "code",
   "execution_count": null,
   "metadata": {},
   "outputs": [],
   "source": [
    "distances_san = np.array([[-1,-1,-1]])\n",
    "\n",
    "for i in range(101):\n",
    "    for j in range(i+1,101):\n",
    "            #print(str(i)+' '+str(j))\n",
    "            sum_sq = np.sum(np.square(X_SAN[i] - X_SAN[j]))\n",
    "            distance = np.sqrt(sum_sq)\n",
    "            distances_san = np.append(distances_san, [[i,j,distance]], axis=0)\n",
    "\n",
    "distances_san\n"
   ]
  },
  {
   "cell_type": "code",
   "execution_count": null,
   "metadata": {},
   "outputs": [],
   "source": [
    "distances_san = distances_san[distances_san[:,2].argsort()]\n",
    "\n",
    "distances_san"
   ]
  },
  {
   "cell_type": "markdown",
   "metadata": {},
   "source": [
    "# Parei aqui - Calcular as novas amostras artificiais para chegar em 200 instancias"
   ]
  },
  {
   "cell_type": "code",
   "execution_count": null,
   "metadata": {},
   "outputs": [],
   "source": [
    "X_SAN_AUGM = X_SAN.copy()\n",
    "\n",
    "X_SAN_AUGM"
   ]
  },
  {
   "cell_type": "code",
   "execution_count": null,
   "metadata": {},
   "outputs": [],
   "source": [
    "const_lambda = 0.5\n",
    "\n",
    "for i in range(1,100):\n",
    "    #print(str(i))\n",
    "    #print(distances_san[i])\n",
    "    #print(int(distances_san[i][0]))\n",
    "    #print(int(distances_san[i][1]))\n",
    "    nova_amostra = ((X_SAN[int(distances_san[i][0])] - X_SAN[int(distances_san[i][1])]) * const_lambda) + X_SAN[int(distances_san[i][1])]\n",
    "    #print(nova_amostra)\n",
    "    X_SAN_AUGM = np.append(X_SAN_AUGM, [nova_amostra], axis=0)"
   ]
  },
  {
   "cell_type": "code",
   "execution_count": null,
   "metadata": {},
   "outputs": [],
   "source": [
    "X_SAN_AUGM"
   ]
  },
  {
   "cell_type": "code",
   "execution_count": null,
   "metadata": {},
   "outputs": [],
   "source": [
    "df_norm_augm_data_san = pd.DataFrame(X_SAN_AUGM, columns = features_indexes)\n",
    "df_norm_augm_data_san.head(500)"
   ]
  },
  {
   "cell_type": "code",
   "execution_count": null,
   "metadata": {},
   "outputs": [],
   "source": [
    "df_norm_augm_data_san['target'] = 0\n",
    "df_norm_augm_data_san.head(400)"
   ]
  },
  {
   "cell_type": "code",
   "execution_count": null,
   "metadata": {},
   "outputs": [],
   "source": [
    "df_norm_augm_data_san.to_csv(\"../Database/df_database_dados_normalizados_aumentados_minmax_san.csv\", index = False)"
   ]
  },
  {
   "cell_type": "code",
   "execution_count": null,
   "metadata": {},
   "outputs": [],
   "source": [
    "df_norm_data_cmh = df_norm_data[df_norm_data['target']==2]\n",
    "df_norm_data_cmh"
   ]
  },
  {
   "cell_type": "code",
   "execution_count": null,
   "metadata": {},
   "outputs": [],
   "source": [
    "df_norm_data_cmd = df_norm_data[df_norm_data['target']==1]\n",
    "df_norm_data_cmd"
   ]
  },
  {
   "cell_type": "code",
   "execution_count": null,
   "metadata": {},
   "outputs": [],
   "source": []
  }
 ],
 "metadata": {
  "kernelspec": {
   "display_name": "Python 3",
   "language": "python",
   "name": "python3"
  },
  "language_info": {
   "codemirror_mode": {
    "name": "ipython",
    "version": 3
   },
   "file_extension": ".py",
   "mimetype": "text/x-python",
   "name": "python",
   "nbconvert_exporter": "python",
   "pygments_lexer": "ipython3",
   "version": "3.7.6"
  }
 },
 "nbformat": 4,
 "nbformat_minor": 4
}
